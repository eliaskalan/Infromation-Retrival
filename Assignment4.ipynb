{
  "nbformat": 4,
  "nbformat_minor": 0,
  "metadata": {
    "colab": {
      "provenance": [],
      "collapsed_sections": [],
      "authorship_tag": "ABX9TyP0heo6SVJvWKJLPJfmKZTQ",
      "include_colab_link": true
    },
    "kernelspec": {
      "name": "python3",
      "display_name": "Python 3"
    },
    "language_info": {
      "name": "python"
    }
  },
  "cells": [
    {
      "cell_type": "markdown",
      "metadata": {
        "id": "view-in-github",
        "colab_type": "text"
      },
      "source": [
        "<a href=\"https://colab.research.google.com/github/eliaskalan/tdt4117-assignment-4/blob/main/Assignment4.ipynb\" target=\"_parent\"><img src=\"https://colab.research.google.com/assets/colab-badge.svg\" alt=\"Open In Colab\"/></a>"
      ]
    },
    {
      "cell_type": "code",
      "source": [
        "import nltk\n",
        "nltk.download('punkt')\n",
        "from nltk.tokenize import word_tokenize\n",
        "import nltk\n",
        "from nltk.corpus import stopwords\n",
        "nltk.download('stopwords')"
      ],
      "metadata": {
        "colab": {
          "base_uri": "https://localhost:8080/"
        },
        "id": "x1FYDkRj3Kuv",
        "outputId": "edb65e07-1aa1-4fe2-b537-9d4e4661b3df"
      },
      "execution_count": 169,
      "outputs": [
        {
          "output_type": "stream",
          "name": "stderr",
          "text": [
            "[nltk_data] Downloading package punkt to /root/nltk_data...\n",
            "[nltk_data]   Package punkt is already up-to-date!\n",
            "[nltk_data] Downloading package stopwords to /root/nltk_data...\n",
            "[nltk_data]   Package stopwords is already up-to-date!\n"
          ]
        },
        {
          "output_type": "execute_result",
          "data": {
            "text/plain": [
              "True"
            ]
          },
          "metadata": {},
          "execution_count": 169
        }
      ]
    },
    {
      "cell_type": "code",
      "execution_count": 170,
      "metadata": {
        "colab": {
          "base_uri": "https://localhost:8080/"
        },
        "id": "rXdVL3Mg2b_w",
        "outputId": "2b84776f-48d8-4cd0-8093-6c849959df06"
      },
      "outputs": [
        {
          "output_type": "execute_result",
          "data": {
            "text/plain": [
              "['Intelligent behavior in people is a product of the mind. But the mind itself is\\n',\n",
              " 'more like what the human brain does.']"
            ]
          },
          "metadata": {},
          "execution_count": 170
        }
      ],
      "source": [
        "file= open('doc.txt',encoding='utf8')\n",
        "read=file.read()\n",
        "file.seek(0)\n",
        "read\n",
        "  \n",
        "# to obtain the\n",
        "# number of lines\n",
        "# in file\n",
        "line = 1\n",
        "for word in read:\n",
        "    if word == '\\n':\n",
        "        line += 1\n",
        "  \n",
        "# create a list to\n",
        "# store each line as\n",
        "# an element of list\n",
        "array = []\n",
        "for i in range(line):\n",
        "    array.append(file.readline())\n",
        "array"
      ]
    },
    {
      "cell_type": "code",
      "source": [
        "punc = '''!()-[]{};:'\"\\, <>./?@#$%^&*_~'''\n",
        "for ele in read:  \n",
        "    if ele in punc:  \n",
        "        read = read.replace(ele, \" \")  \n",
        "          \n",
        "read\n",
        "  \n",
        "# to maintain uniformity\n",
        "read=read.lower()                    \n",
        "read"
      ],
      "metadata": {
        "colab": {
          "base_uri": "https://localhost:8080/",
          "height": 53
        },
        "id": "PCfbVVI-2qaL",
        "outputId": "79b72bbb-4f1a-4e64-d6b6-8fe44ca784b2"
      },
      "execution_count": 171,
      "outputs": [
        {
          "output_type": "execute_result",
          "data": {
            "text/plain": [
              "'intelligent behavior in people is a product of the mind  but the mind itself is\\nmore like what the human brain does '"
            ],
            "application/vnd.google.colaboratory.intrinsic+json": {
              "type": "string"
            }
          },
          "metadata": {},
          "execution_count": 171
        }
      ]
    },
    {
      "cell_type": "code",
      "source": [
        "\n",
        "for i in range(1):\n",
        "    # this will convert\n",
        "    # the word into tokens\n",
        "    text_tokens = word_tokenize(read)\n",
        "  \n",
        "tokens_without_sw = [\n",
        "    word for word in text_tokens if not word in stopwords.words()]\n",
        "  \n",
        "print(tokens_without_sw)"
      ],
      "metadata": {
        "colab": {
          "base_uri": "https://localhost:8080/"
        },
        "id": "bA15tOqX2twF",
        "outputId": "b7d82fdb-3131-4244-8f75-f8b56a63ff38"
      },
      "execution_count": 172,
      "outputs": [
        {
          "output_type": "stream",
          "name": "stdout",
          "text": [
            "['intelligent', 'behavior', 'product', 'mind', 'mind', 'human', 'brain']\n"
          ]
        }
      ]
    },
    {
      "cell_type": "code",
      "source": [
        "dict = {}\n",
        "  \n",
        "for i in range(line):\n",
        "    check = array[i].lower()\n",
        "    for item in tokens_without_sw:\n",
        "  \n",
        "        if item in check:\n",
        "            if item not in dict:\n",
        "                dict[item] = []\n",
        "  \n",
        "            if item in dict:\n",
        "                dict[item].append(i+1)\n",
        "  \n",
        "print(dict)"
      ],
      "metadata": {
        "colab": {
          "base_uri": "https://localhost:8080/"
        },
        "id": "lM-IVKlKoX29",
        "outputId": "715b1221-157a-428f-c413-4c577ef91d4a"
      },
      "execution_count": 173,
      "outputs": [
        {
          "output_type": "stream",
          "name": "stdout",
          "text": [
            "{'intelligent': [1], 'behavior': [1], 'product': [1], 'mind': [1, 1], 'human': [2], 'brain': [2]}\n"
          ]
        }
      ]
    },
    {
      "cell_type": "markdown",
      "source": [
        " inverted list with block addressing\n",
        " "
      ],
      "metadata": {
        "id": "jbDGvra7oYqs"
      }
    },
    {
      "cell_type": "code",
      "source": [
        "def chunks(lst, n):\n",
        "    \"\"\"Yield successive n-sized chunks from lst.\"\"\"\n",
        "    for i in range(0, len(lst), n):\n",
        "        yield lst[i:i + n]"
      ],
      "metadata": {
        "id": "ECLteD48maq2"
      },
      "execution_count": 174,
      "outputs": []
    },
    {
      "cell_type": "code",
      "source": [
        "block=[]\n",
        "block=list(chunks(text_tokens,4))"
      ],
      "metadata": {
        "id": "mFb-jLOUmZFL"
      },
      "execution_count": 175,
      "outputs": []
    },
    {
      "cell_type": "code",
      "source": [
        "blk={}\n",
        "for i in range(len(block)):\n",
        "    check = block[i]\n",
        "    for item in tokens_without_sw:\n",
        "  \n",
        "        if item in check:\n",
        "            if item not in blk:\n",
        "                blk[item] = []\n",
        "  \n",
        "            if item in blk:\n",
        "              if not i+1 in blk[item]:\n",
        "                blk[item].append(i+1)"
      ],
      "metadata": {
        "id": "lRI1c6VclJGa"
      },
      "execution_count": 176,
      "outputs": []
    },
    {
      "cell_type": "code",
      "source": [
        "blk"
      ],
      "metadata": {
        "colab": {
          "base_uri": "https://localhost:8080/"
        },
        "id": "JRrPH-KRjqI2",
        "outputId": "4846d1a9-d011-4087-e0ac-ba73368cd6dc"
      },
      "execution_count": 177,
      "outputs": [
        {
          "output_type": "execute_result",
          "data": {
            "text/plain": [
              "{'intelligent': [1],\n",
              " 'behavior': [1],\n",
              " 'product': [2],\n",
              " 'mind': [3, 4],\n",
              " 'human': [5],\n",
              " 'brain': [6]}"
            ]
          },
          "metadata": {},
          "execution_count": 177
        }
      ]
    },
    {
      "cell_type": "code",
      "source": [
        "tr={}\n",
        "for i in range(len(block)):\n",
        "    check = block[i]\n",
        "    for item in tokens_without_sw:\n",
        "  \n",
        "        if item in check:\n",
        "            if item not in tr:\n",
        "                tr[i] = item\n",
        "  \n",
        "            if item in tr:\n",
        "              if not i+1 in tr[item]:\n",
        "                tr[i].append(item)"
      ],
      "metadata": {
        "id": "Gq0gw_mau15s"
      },
      "execution_count": 178,
      "outputs": []
    },
    {
      "cell_type": "code",
      "source": [
        "tr"
      ],
      "metadata": {
        "colab": {
          "base_uri": "https://localhost:8080/"
        },
        "id": "vKO34Azwu_vm",
        "outputId": "d7d377ba-b33d-49a0-d238-bb098bd7478a"
      },
      "execution_count": 179,
      "outputs": [
        {
          "output_type": "execute_result",
          "data": {
            "text/plain": [
              "{0: 'behavior', 1: 'product', 2: 'mind', 3: 'mind', 4: 'human', 5: 'brain'}"
            ]
          },
          "metadata": {},
          "execution_count": 179
        }
      ]
    },
    {
      "cell_type": "code",
      "source": [
        "from suffix_tree import Tree\n",
        "tree = Tree(tr)\n",
        "tree.find(\"aplac\")"
      ],
      "metadata": {
        "colab": {
          "base_uri": "https://localhost:8080/"
        },
        "id": "AE-X2cCcukwm",
        "outputId": "2eeb7c91-09af-47ec-fc39-1ea3fb8233c7"
      },
      "execution_count": 180,
      "outputs": [
        {
          "output_type": "execute_result",
          "data": {
            "text/plain": [
              "False"
            ]
          },
          "metadata": {},
          "execution_count": 180
        }
      ]
    },
    {
      "cell_type": "code",
      "source": [
        "file= open('text.txt',encoding='utf8')\n",
        "read=file.read()\n",
        "file.seek(0)\n",
        "\n",
        "  \n",
        "# to obtain the\n",
        "# number of lines\n",
        "# in file\n",
        "line = 1\n",
        "for word in read:\n",
        "    if word == '\\n':\n",
        "        line += 1\n",
        "  \n",
        "# create a list to\n",
        "# store each line as\n",
        "# an element of list\n",
        "array = []\n",
        "for i in range(line):\n",
        "    array.append(file.readline())\n",
        "\n",
        "\n",
        "punc = '''!()-[]{};:'\"\\, <>./?@#$%^&*_~'''\n",
        "for ele in read:  \n",
        "    if ele in punc:  \n",
        "        read = read.replace(ele, \" \")  \n",
        "\n",
        "  \n",
        "# to maintain uniformity\n",
        "read=read.lower()                    \n",
        "\n",
        "\n",
        "for i in range(1):\n",
        "    # this will convert\n",
        "    # the word into tokens\n",
        "    text_tokens = word_tokenize(read)\n",
        "\n",
        "text_tokens"
      ],
      "metadata": {
        "id": "G0rImHqT2myr"
      },
      "execution_count": null,
      "outputs": []
    },
    {
      "cell_type": "code",
      "source": [
        "post = {}\n",
        "  \n",
        "for i in range(line):\n",
        "    check = array[i].lower()\n",
        "    for item in text_tokens:\n",
        "  \n",
        "        if item in check:\n",
        "            if item not in post:\n",
        "                post[item] = []\n",
        "  \n",
        "            if item in post:\n",
        "              if not i+1 in post[item]:\n",
        "                post[item].append(i+1)\n",
        "  \n",
        "post"
      ],
      "metadata": {
        "colab": {
          "base_uri": "https://localhost:8080/"
        },
        "id": "9wmEz0zU3f_O",
        "outputId": "700f63a4-c320-460c-d0b7-9a400c332284"
      },
      "execution_count": 188,
      "outputs": [
        {
          "output_type": "execute_result",
          "data": {
            "text/plain": [
              "{'although': [1],\n",
              " 'we': [1, 3, 5],\n",
              " 'know': [1],\n",
              " 'much': [1, 2, 4],\n",
              " 'more': [1],\n",
              " 'about': [1, 4],\n",
              " 'the': [1, 2, 3, 4],\n",
              " 'human': [1],\n",
              " 'brain': [1],\n",
              " 'than': [1],\n",
              " 'did': [1],\n",
              " 'even': [1],\n",
              " 'in': [1, 2],\n",
              " 'a': [1, 2, 3, 4, 5],\n",
              " 'ten': [2],\n",
              " 'years': [2],\n",
              " 'ago': [2],\n",
              " 'thinking': [2],\n",
              " 'it': [2, 3],\n",
              " 'engages': [2],\n",
              " 'remains': [2],\n",
              " 'pretty': [2],\n",
              " 'total': [2],\n",
              " 'mystery': [3],\n",
              " 'is': [3, 4],\n",
              " 'like': [3],\n",
              " 'big': [3],\n",
              " 'jigsaw': [3],\n",
              " 'puzzle': [3],\n",
              " 'where': [3],\n",
              " 'can': [3, 4],\n",
              " 'see': [3],\n",
              " 'many': [3],\n",
              " 'of': [3],\n",
              " 'pieces': [4],\n",
              " 'but': [4],\n",
              " 'not': [4, 5],\n",
              " 'yet': [4],\n",
              " 'put': [4],\n",
              " 'them': [4],\n",
              " 'together': [4],\n",
              " 'there': [4],\n",
              " 'so': [4],\n",
              " 'us': [4],\n",
              " 'that': [5],\n",
              " 'do': [5],\n",
              " 'understand': [5],\n",
              " 'at': [5],\n",
              " 'all': [5]}"
            ]
          },
          "metadata": {},
          "execution_count": 188
        }
      ]
    }
  ]
}